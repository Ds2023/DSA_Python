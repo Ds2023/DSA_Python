{
 "cells": [
  {
   "cell_type": "markdown",
   "metadata": {},
   "source": [
    "Pseudo Code:\n",
    "\n",
    "- We'll need to take in an unsorted array\n",
    "- Loop through the entire array, while comparing an array with it's adjacent array\n",
    "- it the first element is greater than the adjacent, we'll swap the two elements\n",
    "- we'll keep at this until no swap is done, meaning the array has been sorted in ascending order\n",
    "- we'll look into how to optimise this algo, as we won't need to loop to the end of the array each time as for every iteration, the largest element is sent to the back of the array"
   ]
  },
  {
   "cell_type": "code",
   "execution_count": 62,
   "metadata": {},
   "outputs": [],
   "source": [
    "def bubble_sort(arr):\n",
    "    \n",
    "    for j in range(len(arr)-1):\n",
    "        \n",
    "        for i in range(len(arr)-1-j):\n",
    "            if arr[i] > arr[i+1]:\n",
    "                \n",
    "                min_value = arr[i+1]\n",
    "                arr[i+1] = arr[i]\n",
    "                arr[i] = min_value\n",
    "                \n",
    "                \n",
    "    return arr"
   ]
  },
  {
   "cell_type": "code",
   "execution_count": 63,
   "metadata": {},
   "outputs": [],
   "source": [
    "data = [-90,12,-101,25,72,446,28,93,25,63,35]"
   ]
  },
  {
   "cell_type": "code",
   "execution_count": 64,
   "metadata": {},
   "outputs": [
    {
     "data": {
      "text/plain": [
       "[-101, -90, 12, 25, 25, 28, 35, 63, 72, 93, 446]"
      ]
     },
     "execution_count": 64,
     "metadata": {},
     "output_type": "execute_result"
    }
   ],
   "source": [
    "bubble_sort(data)"
   ]
  },
  {
   "cell_type": "markdown",
   "metadata": {},
   "source": [
    "Time Complexity - O(n^2)\n",
    "\n",
    "- This is because we'll be utilizing two for-loops.\n",
    "- We'll loop through each element in the outer loop, (n times) and in the worst case scenario, loop through every element in the inner loop for comparative purposes"
   ]
  }
 ],
 "metadata": {
  "kernelspec": {
   "display_name": "Python 3",
   "language": "python",
   "name": "python3"
  },
  "language_info": {
   "codemirror_mode": {
    "name": "ipython",
    "version": 3
   },
   "file_extension": ".py",
   "mimetype": "text/x-python",
   "name": "python",
   "nbconvert_exporter": "python",
   "pygments_lexer": "ipython3",
   "version": "3.12.0"
  }
 },
 "nbformat": 4,
 "nbformat_minor": 2
}
