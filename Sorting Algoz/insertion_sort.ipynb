{
 "cells": [
  {
   "cell_type": "code",
   "execution_count": 41,
   "metadata": {},
   "outputs": [],
   "source": [
    "arr = [12,1,41,53,15]"
   ]
  },
  {
   "cell_type": "code",
   "execution_count": 40,
   "metadata": {},
   "outputs": [],
   "source": [
    "def bubble_sort(arr):\n",
    "    for i in range(1,len(arr)):\n",
    "        key = arr[i]\n",
    "        j = i - 1\n",
    "    \n",
    "        while j >= 0 and key < arr[j]:\n",
    "            arr[j + 1] = arr[j]\n",
    "            j = j - 1\n",
    "    \n",
    "        arr[j + 1] = key\n",
    "        \n",
    "    return arr\n"
   ]
  },
  {
   "cell_type": "code",
   "execution_count": 42,
   "metadata": {},
   "outputs": [
    {
     "data": {
      "text/plain": [
       "[1, 12, 15, 41, 53]"
      ]
     },
     "execution_count": 42,
     "metadata": {},
     "output_type": "execute_result"
    }
   ],
   "source": [
    "bubble_sort(arr)"
   ]
  },
  {
   "cell_type": "markdown",
   "metadata": {},
   "source": [
    "How it Works:"
   ]
  },
  {
   "cell_type": "markdown",
   "metadata": {},
   "source": [
    "Given the array [12, 1, 41, 53, 15]:\n",
    "\n",
    "- First Iteration (i=1):\n",
    "key is 1.\n",
    "j is 0.\n",
    "arr[j] is 12.\n",
    "Since key is less than arr[j], we shift 12 one position to the right.\n",
    "Now, the array becomes [1, 12, 41, 53, 15].\n",
    "We insert key (which is 1) at index j, resulting in [1, 12, 41, 53, 15].\n",
    "\n",
    "- Second Iteration (i=2):\n",
    "key is 41.\n",
    "j is 1.\n",
    "arr[j] is 12.\n",
    "Since key is greater than arr[j], no shifting is needed.\n",
    "We insert key at its current position, resulting in [1, 12, 41, 53, 15].\n",
    "\n",
    "- Third Iteration (i=3):\n",
    "key is 53.\n",
    "j is 2.\n",
    "arr[j] is 41.\n",
    "Since key is greater than arr[j], no shifting is needed.\n",
    "We insert key at its current position, resulting in [1, 12, 41, 53, 15].\n",
    "\n",
    "- Fourth Iteration (i=4):\n",
    "key is 15.\n",
    "j is 3.\n",
    "arr[j] is 53.\n",
    "Since key is less than arr[j], we shift 53 one position to the right.\n",
    "Now, the array becomes [1, 12, 41, 53, 53].\n",
    "\n",
    "- Continued Shifting:\n",
    "We continue shifting elements until we find the correct position for 15.\n",
    "In this case, we need to shift 53 to the right one more time to make space for 15.\n",
    "Insertion of Key (15):\n",
    "Once we find the correct position for 15, we insert it into the array at index j + 1, where j is the index of the last element that was shifted.\n",
    "In this case, j is 3, so the correct position for 15 is at index 3 + 1 = 4.\n",
    "We insert 15 at index 4, resulting in the array [1, 12, 15, 41, 53]."
   ]
  },
  {
   "cell_type": "markdown",
   "metadata": {},
   "source": [
    "- Time Complexity - O(n^2)\n",
    "\n",
    "- Outer Loop: The outer loop iterates through each element of the array once. This loop has a time complexity of O(n).\n",
    "- Inner Loop (Worst Case): In the worst case scenario, for each iteration of the outer loop, the inner loop may iterate over all elements to find the correct position for the current element. This results in a time complexity of O(n) for the inner loop.\n",
    "- Total Time Complexity: Since the inner loop is nested within the outer loop, the total number of comparisons and shifts performed is O(n^2)"
   ]
  }
 ],
 "metadata": {
  "kernelspec": {
   "display_name": "Python 3",
   "language": "python",
   "name": "python3"
  },
  "language_info": {
   "codemirror_mode": {
    "name": "ipython",
    "version": 3
   },
   "file_extension": ".py",
   "mimetype": "text/x-python",
   "name": "python",
   "nbconvert_exporter": "python",
   "pygments_lexer": "ipython3",
   "version": "3.12.0"
  }
 },
 "nbformat": 4,
 "nbformat_minor": 2
}
