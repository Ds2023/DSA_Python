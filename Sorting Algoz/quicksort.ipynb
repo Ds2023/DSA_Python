{
 "cells": [
  {
   "cell_type": "code",
   "execution_count": null,
   "metadata": {},
   "outputs": [],
   "source": [
    "def partition(arr, low, high):\n",
    "    pivot = arr[high]\n",
    "    i = low -1\n",
    "    for j in range(low, high):\n",
    "        if arr[j] < pivot:\n",
    "            i += 1\n",
    "            arr[i], arr[j] = arr[j], arr[i]\n",
    "    \n",
    "    arr[i + 1], arr[high] = arr[high], arr[i + 1]\n",
    "\n",
    "    return i + 1\n",
    "\n",
    "\n",
    "def quick_sort(arr, low, high):\n",
    "    if low < high:\n",
    "        pivot_location = partition(arr, low, high)\n",
    "        quick_sort(arr, low, pivot_location - 1)\n",
    "        quick_sort(arr, pivot_location + 1, high)\n",
    "\n",
    "    return arr"
   ]
  }
 ],
 "metadata": {
  "language_info": {
   "name": "python"
  }
 },
 "nbformat": 4,
 "nbformat_minor": 2
}
