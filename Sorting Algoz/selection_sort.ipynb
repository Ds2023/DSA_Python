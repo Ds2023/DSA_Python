{
 "cells": [
  {
   "cell_type": "markdown",
   "metadata": {},
   "source": [
    "Selection Sort Pseudo Code:\n",
    "\n",
    "- define a function that takes in the unsorted array as sn input, and the length of the array\n",
    "- we'll utilise two for loops\n",
    "- we'll initialize the variable min_idx to i (the current index) within the outer loop.\n",
    "- we'll Search for the index of the minimum element in the unsorted portion of the array (arr[i+1:]) within the inner loop.\n",
    "- swap the minimum element found with the current element (arr[i]).\n",
    "- repeat the process for each element of the array until the entire array is sorted."
   ]
  },
  {
   "cell_type": "code",
   "execution_count": 30,
   "metadata": {},
   "outputs": [],
   "source": [
    "def selection_sort(arr,size):\n",
    "    \n",
    "    for i in range(size):\n",
    "        \n",
    "        min_idx = i\n",
    "        \n",
    "        for j in range(i+1,size):\n",
    "            if arr[j] < arr[min_idx]:\n",
    "                min_idx = j\n",
    "                \n",
    "        temp = arr[i]\n",
    "        arr[i] = arr[min_idx]\n",
    "        arr[min_idx] = temp\n",
    "       \n",
    "    return arr \n",
    "        \n",
    "        \n",
    "            "
   ]
  },
  {
   "cell_type": "markdown",
   "metadata": {},
   "source": [
    "Time Complexity - O(n^2)\n",
    "\n",
    "- Selection sort also utilizes two nested loops.\n",
    "- In the outer loop, we iterate through each element of the array, performing n iterations (where n is the number of elements in the array).\n",
    "- In the inner loop, for each iteration of the outer loop, we search for the minimum element in the unsorted portion of the array, which requires potentially n comparisons in the worst-case scenario.\n",
    "- Therefore, the total number of comparisons performed is the product of the number of iterations of both loops, resulting in that time complexity."
   ]
  }
 ],
 "metadata": {
  "kernelspec": {
   "display_name": "Python 3",
   "language": "python",
   "name": "python3"
  },
  "language_info": {
   "codemirror_mode": {
    "name": "ipython",
    "version": 3
   },
   "file_extension": ".py",
   "mimetype": "text/x-python",
   "name": "python",
   "nbconvert_exporter": "python",
   "pygments_lexer": "ipython3",
   "version": "3.12.0"
  }
 },
 "nbformat": 4,
 "nbformat_minor": 2
}
