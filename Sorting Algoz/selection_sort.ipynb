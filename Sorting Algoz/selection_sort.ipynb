{
 "cells": [
  {
   "cell_type": "markdown",
   "metadata": {},
   "source": [
    "Selection Sort Pseudo Code:\n",
    "\n",
    "- Define a function that takes an unsorted array as the input\n",
    "- Select the minimum of that array\n",
    "- Replace that value with the element at index O\n",
    "- Update the array to no exclude the first element\n",
    "- Select the minimum from the remaining array\n",
    "- Swap with the first element of the updated array\n",
    "- Keep looping until the length of the array under consideration is equal to 1, which means the array is fully sorted"
   ]
  },
  {
   "cell_type": "code",
   "execution_count": 3,
   "metadata": {},
   "outputs": [
    {
     "name": "stdout",
     "output_type": "stream",
     "text": [
      "Requirement already satisfied: numpy in c:\\users\\user\\pyver\\python312\\lib\\site-packages (1.26.4)\n",
      "Note: you may need to restart the kernel to use updated packages.\n"
     ]
    },
    {
     "name": "stderr",
     "output_type": "stream",
     "text": [
      "\n",
      "[notice] A new release of pip is available: 23.2.1 -> 24.0\n",
      "[notice] To update, run: python.exe -m pip install --upgrade pip\n"
     ]
    }
   ],
   "source": [
    "pip install numpy"
   ]
  },
  {
   "cell_type": "code",
   "execution_count": 4,
   "metadata": {},
   "outputs": [],
   "source": [
    "import numpy as np"
   ]
  },
  {
   "cell_type": "code",
   "execution_count": 39,
   "metadata": {},
   "outputs": [
    {
     "data": {
      "text/plain": [
       "12"
      ]
     },
     "execution_count": 39,
     "metadata": {},
     "output_type": "execute_result"
    }
   ],
   "source": [
    "arr = np.array([12,41,2,4,24,75,38,96,45,83,52,46])\n",
    "len(arr)"
   ]
  },
  {
   "cell_type": "code",
   "execution_count": 42,
   "metadata": {},
   "outputs": [
    {
     "data": {
      "text/plain": [
       "2"
      ]
     },
     "execution_count": 42,
     "metadata": {},
     "output_type": "execute_result"
    }
   ],
   "source": [
    "arr.min()"
   ]
  },
  {
   "cell_type": "code",
   "execution_count": 47,
   "metadata": {},
   "outputs": [],
   "source": [
    "first_value = arr[0]\n",
    "min_value = arr.min()\n",
    "min_index = np.argmin(arr)\n",
    "arr[0] = min_value\n",
    "arr[min_index] = first_value"
   ]
  },
  {
   "cell_type": "code",
   "execution_count": 48,
   "metadata": {},
   "outputs": [
    {
     "name": "stdout",
     "output_type": "stream",
     "text": [
      "[ 2 41 12  4 24 75 38 96 45 83 52 46]\n"
     ]
    }
   ],
   "source": [
    "print(arr)"
   ]
  },
  {
   "cell_type": "code",
   "execution_count": 50,
   "metadata": {},
   "outputs": [],
   "source": [
    "# for i in range(len(arr)):\n",
    "#     if len(arr) > 1:\n",
    "#         first_value = arr[0]\n",
    "#         min_value = arr.min()\n",
    "#         min_index = np.argmin(arr)\n",
    "#         arr[0] = min_value\n",
    "#         arr[min_index] = first_value"
   ]
  },
  {
   "cell_type": "code",
   "execution_count": 52,
   "metadata": {},
   "outputs": [
    {
     "name": "stdout",
     "output_type": "stream",
     "text": [
      "[78]\n"
     ]
    }
   ],
   "source": [
    "\n",
    "while len(arr) > 1:\n",
    "        \n",
    "    first_value = arr[0]\n",
    "    min_value = arr.min()\n",
    "    min_index = np.argmin(arr)\n",
    "    arr[0] = min_value\n",
    "    arr[min_index] = first_value\n",
    "    \n",
    "  "
   ]
  },
  {
   "cell_type": "code",
   "execution_count": 58,
   "metadata": {},
   "outputs": [],
   "source": [
    "arr = np.array([23,12,46,45,78])"
   ]
  },
  {
   "cell_type": "code",
   "execution_count": 59,
   "metadata": {},
   "outputs": [
    {
     "name": "stdout",
     "output_type": "stream",
     "text": [
      "[78]\n"
     ]
    }
   ],
   "source": [
    "for i in range(len(arr) - 1):\n",
    "    first_value = arr[0]\n",
    "    min_value = arr.min()\n",
    "    min_index = np.argmin(arr)\n",
    "    arr[0] = min_value\n",
    "    arr[min_index] = first_value\n",
    "    arr = arr[1:]\n",
    "\n",
    "print(arr)"
   ]
  },
  {
   "cell_type": "code",
   "execution_count": 20,
   "metadata": {},
   "outputs": [],
   "source": [
    "def selectionSort(array, size):\n",
    "    \n",
    "    for ind in range(size):\n",
    "        min_index = ind\n",
    " \n",
    "        for j in range(ind + 1, size):\n",
    "            # select the minimum element in every iteration\n",
    "            if array[j] < array[min_index]:\n",
    "                min_index = j\n",
    "         # swapping the elements to sort the array\n",
    "        (array[ind], array[min_index]) = (array[min_index], array[ind])\n",
    "        \n",
    "        \n",
    " "
   ]
  },
  {
   "cell_type": "code",
   "execution_count": 21,
   "metadata": {},
   "outputs": [],
   "source": [
    "arr = np.array([12,14,1,46,34,89,64,68,97])"
   ]
  },
  {
   "cell_type": "code",
   "execution_count": 22,
   "metadata": {},
   "outputs": [],
   "source": [
    "size = len(arr)"
   ]
  },
  {
   "cell_type": "code",
   "execution_count": 23,
   "metadata": {},
   "outputs": [],
   "source": [
    "selectionSort(arr,size)"
   ]
  },
  {
   "cell_type": "code",
   "execution_count": 24,
   "metadata": {},
   "outputs": [
    {
     "data": {
      "text/plain": [
       "array([ 1, 12, 14, 34, 46, 64, 68, 89, 97])"
      ]
     },
     "execution_count": 24,
     "metadata": {},
     "output_type": "execute_result"
    }
   ],
   "source": [
    "arr"
   ]
  },
  {
   "cell_type": "code",
   "execution_count": null,
   "metadata": {},
   "outputs": [],
   "source": []
  },
  {
   "cell_type": "code",
   "execution_count": null,
   "metadata": {},
   "outputs": [],
   "source": []
  },
  {
   "cell_type": "code",
   "execution_count": null,
   "metadata": {},
   "outputs": [],
   "source": []
  }
 ],
 "metadata": {
  "kernelspec": {
   "display_name": "Python 3",
   "language": "python",
   "name": "python3"
  },
  "language_info": {
   "codemirror_mode": {
    "name": "ipython",
    "version": 3
   },
   "file_extension": ".py",
   "mimetype": "text/x-python",
   "name": "python",
   "nbconvert_exporter": "python",
   "pygments_lexer": "ipython3",
   "version": "3.12.0"
  }
 },
 "nbformat": 4,
 "nbformat_minor": 2
}
