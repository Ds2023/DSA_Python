{
 "cells": [
  {
   "cell_type": "markdown",
   "metadata": {},
   "source": [
    "Selection Sort Pseudo Code:\n",
    "\n",
    "- define a function that takes in the unsorted array as sn input, and the length of the array\n",
    "- we'll utilise two for loops\n",
    "- we'll initialize the variable min_idx to i (the current index) within the outer loop.\n",
    "- we'll Search for the index of the minimum element in the unsorted portion of the array (arr[i+1:]) within the inner loop.\n",
    "- swap the minimum element found with the current element (arr[i]).\n",
    "- repeat the process for each element of the array until the entire array is sorted."
   ]
  },
  {
   "cell_type": "code",
   "execution_count": 1,
   "metadata": {},
   "outputs": [],
   "source": [
    "import numpy as np"
   ]
  },
  {
   "cell_type": "code",
   "execution_count": 30,
   "metadata": {},
   "outputs": [],
   "source": [
    "def selection_sort(arr,size):\n",
    "    \n",
    "    for i in range(size):\n",
    "        \n",
    "        min_idx = i\n",
    "        \n",
    "        for j in range(i+1,size):\n",
    "            if arr[j] < arr[min_idx]:\n",
    "                min_idx = j\n",
    "                \n",
    "        temp = arr[i]\n",
    "        arr[i] = arr[min_idx]\n",
    "        arr[min_idx] = temp\n",
    "       \n",
    "    return arr \n",
    "        \n",
    "        \n",
    "            "
   ]
  },
  {
   "cell_type": "markdown",
   "metadata": {},
   "source": [
    "Time Complexity - O(n^2)\n",
    "\n",
    "- This is because we'll be utilizing two for loops\n"
   ]
  }
 ],
 "metadata": {
  "kernelspec": {
   "display_name": "Python 3",
   "language": "python",
   "name": "python3"
  },
  "language_info": {
   "codemirror_mode": {
    "name": "ipython",
    "version": 3
   },
   "file_extension": ".py",
   "mimetype": "text/x-python",
   "name": "python",
   "nbconvert_exporter": "python",
   "pygments_lexer": "ipython3",
   "version": "3.12.0"
  }
 },
 "nbformat": 4,
 "nbformat_minor": 2
}
