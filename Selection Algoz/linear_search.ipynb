{
 "cells": [
  {
   "cell_type": "markdown",
   "metadata": {},
   "source": [
    "Linear Search Algorithm"
   ]
  },
  {
   "cell_type": "code",
   "execution_count": 1,
   "metadata": {},
   "outputs": [
    {
     "name": "stdout",
     "output_type": "stream",
     "text": [
      "Element is not present in list\n"
     ]
    }
   ],
   "source": [
    "def linear_search(arr, x):\n",
    "    for i in range(len(arr)):\n",
    "        if arr[i] == x:\n",
    "            print(\"Element is present at index\", i)\n",
    "            return\n",
    "    else:\n",
    "        print(\"Element is not present in list\")\n",
    "\n",
    "\n",
    "arr = [12,15,64,3,92,64,36,74]\n",
    "x = 100\n",
    "\n",
    "linear_search(arr,x)"
   ]
  },
  {
   "cell_type": "markdown",
   "metadata": {},
   "source": [
    "Big O Notation\n",
    "\n",
    "Time Complexity - O(n)\n",
    "- Where n is the number of elements in the list\n",
    "- In the worst case scenario, the algo will have to iterate through the entire list to find the element it's looking for.\n",
    "\n",
    "Space Complexity - O(1)\n",
    "- The algo does not create any new data structures or allocate additional memory"
   ]
  }
 ],
 "metadata": {
  "kernelspec": {
   "display_name": "Python 3",
   "language": "python",
   "name": "python3"
  },
  "language_info": {
   "codemirror_mode": {
    "name": "ipython",
    "version": 3
   },
   "file_extension": ".py",
   "mimetype": "text/x-python",
   "name": "python",
   "nbconvert_exporter": "python",
   "pygments_lexer": "ipython3",
   "version": "3.12.0"
  }
 },
 "nbformat": 4,
 "nbformat_minor": 2
}
