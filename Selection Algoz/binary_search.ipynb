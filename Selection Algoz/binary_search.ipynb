{
 "cells": [
  {
   "cell_type": "markdown",
   "metadata": {},
   "source": [
    "Binary Search Algorithm\n",
    "For array sorted in ascending order"
   ]
  },
  {
   "cell_type": "code",
   "execution_count": 74,
   "metadata": {},
   "outputs": [],
   "source": [
    "def binary_search(arr,element):\n",
    "    \n",
    "    while len(arr) > 1:\n",
    "    \n",
    "        start = len(arr)//2\n",
    "    \n",
    "    # condition 1    \n",
    "        if element == arr[start]:\n",
    "            print(f\"Element is at index {start}\")      \n",
    "            break\n",
    "\n",
    "        \n",
    "    # condition 2\n",
    "        elif element < arr[start]:\n",
    "            arr = arr[:start]\n",
    "            \n",
    "        \n",
    "    # condition 3\n",
    "        elif element > arr[start]:\n",
    "            arr = arr[start+1:]\n",
    "\n",
    "            \n",
    "       \n",
    "    if len(arr) == 1 and arr[0] != element:\n",
    "        print(\"Element not found in array\")\n",
    "    "
   ]
  },
  {
   "cell_type": "code",
   "execution_count": 76,
   "metadata": {},
   "outputs": [
    {
     "name": "stdout",
     "output_type": "stream",
     "text": [
      "Element not found in array\n"
     ]
    }
   ],
   "source": [
    "binary_search([23,27,35,45,68,79,100],46)"
   ]
  },
  {
   "cell_type": "markdown",
   "metadata": {},
   "source": [
    "Big O Notation"
   ]
  },
  {
   "cell_type": "markdown",
   "metadata": {},
   "source": [
    "Time Complexity - O(log n)\n",
    "- This is because for every iteration, the search space of the algo is halfed.\n",
    "- Bear in mind we're only emphasizing the dominant terms because they have the most significant impact on the algos performance for larger input sizes.\n",
    "Space Complexity - O(1)\n",
    "- We're operating on the array in place without creating or requiring an additional data structure."
   ]
  }
 ],
 "metadata": {
  "kernelspec": {
   "display_name": "Python 3",
   "language": "python",
   "name": "python3"
  },
  "language_info": {
   "codemirror_mode": {
    "name": "ipython",
    "version": 3
   },
   "file_extension": ".py",
   "mimetype": "text/x-python",
   "name": "python",
   "nbconvert_exporter": "python",
   "pygments_lexer": "ipython3",
   "version": "3.12.0"
  }
 },
 "nbformat": 4,
 "nbformat_minor": 2
}
